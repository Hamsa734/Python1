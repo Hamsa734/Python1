{
 "cells": [
  {
   "cell_type": "markdown",
   "id": "3dae7527",
   "metadata": {},
   "source": [
    "# Unit-IV"
   ]
  },
  {
   "cell_type": "markdown",
   "id": "7b598ce1",
   "metadata": {},
   "source": [
    "# Binary Trees: Implementation and Traversal Techniques\t"
   ]
  },
  {
   "cell_type": "markdown",
   "id": "e7c3a393",
   "metadata": {},
   "source": [
    "#### Syllabus:\n",
    "\n",
    "- Definition and properties of tree data structures,\n",
    "- Types of trees:binary trees, binary search trees, \n",
    "- Concept and structure of binary trees, \n",
    "- Node structure for binary trees (data, left child, and right child),\n",
    "- Binary tree properties and characteristics, \n",
    "- Creating a Binary Tree data type, \n",
    "- Concept and algorithm for pre-order traversal, \n",
    "- Implementing pre-order traversal, \n",
    "- Concept and algorithm for in-order traversal, \n",
    "- Implementing in-order traversal, \n",
    "- Concept and algorithm for postorder traversal, \n",
    "- Implementing post-order traversal ,\n",
    "- Concept of the lowest common ancestor (LCA),\n",
    "- Implementing LCA in a binary tree, \n",
    "- Concept of grandchildren in a binary tree, \n",
    "- Algorithm to find all grandchildren of a given node, \n",
    "- Implementing the solution in Python."
   ]
  },
  {
   "cell_type": "markdown",
   "id": "1cb4dad2",
   "metadata": {},
   "source": [
    "## Definition\n",
    "- A tree is a non-linear data structure that represents hierarchical relationships. \n",
    "- It consists of nodes connected by edges, where each node can have multiple children but only one parent. \n",
    "- Trees are widely used in computing for organizing data that naturally form a hierarchy, \n",
    "- such as file systems or decision-making processes."
   ]
  },
  {
   "cell_type": "markdown",
   "id": "800d6d41",
   "metadata": {},
   "source": [
    "- Trees are fundamental to computer science due to their ability to represent hierarchical data and \n",
    "- perform efficient searching and sorting. \n",
    "- Their recursive nature, combined with the ability to handle dynamic growth,\n",
    "- makes them a powerful tool in various real-world applications \n",
    "- such as file systems, decision-making processes, and database indexing. \n",
    "- Understanding how trees work is essential for solving problems that involve hierarchical data and relationships."
   ]
  },
  {
   "cell_type": "markdown",
   "id": "d5d45231",
   "metadata": {},
   "source": [
    "## Key Terminology\n",
    "- Node: The fundamental element of a tree, representing data.\n",
    "- Root: The topmost node in a tree, which has no parent.\n",
    "- Edge: A connection between two nodes.\n",
    "- Parent: A node that has one or more child nodes.\n",
    "- Child: A node directly connected to another node through an edge, representing a descendant.\n",
    "- Leaf Node: A node that has no children.\n",
    "- Subtree: A tree formed by any node and all its descendants.\n",
    "- Depth: The number of edges from the root node to the current node.\n",
    "- Height: The length of the longest path from a node to a leaf.\n",
    "- Degree: The number of children a node has."
   ]
  },
  {
   "cell_type": "markdown",
   "id": "0f09d95e",
   "metadata": {},
   "source": [
    "## Properties of Trees\n",
    "- Acyclic Structure: A tree does not have any cycles, meaning you cannot revisit a node once you have traversed it.\n",
    "- Connected Graph: A tree ensures that every node is connected by a path.\n",
    "- Single Path: Between any two nodes in a tree, there is exactly one path.\n",
    "- Recursive Nature: A tree can be defined recursively; each node forms a subtree with its descendants.\n",
    "- Number of Edges: A tree with n nodes has n-1 edges.\n"
   ]
  },
  {
   "cell_type": "markdown",
   "id": "f770c706",
   "metadata": {},
   "source": [
    "## Types of Trees\n",
    "- Binary Tree: A type of tree where each node can have at most two children.\n",
    "- Binary Search Tree (BST): A binary tree in which the left child contains values less than the parent and the right child contains values greater than the parent.\n",
    "- Balanced Tree: A tree in which the heights of the left and right subtrees of every node differ by at most one.\n",
    "- AVL Tree: A self-balancing binary search tree where the height of the subtrees is maintained within a limited range.\n",
    "- Heap: A tree-based structure where the parent node is greater than its children in a max-heap or smaller in a min-heap.\n",
    "- Trie: A tree-like data structure used to store strings, where each node represents a character of a string."
   ]
  },
  {
   "cell_type": "markdown",
   "id": "5e5f73cd",
   "metadata": {},
   "source": [
    "## Real-World Examples\n",
    "1. File Systems\n",
    "- In modern operating systems, the file system is often represented as a tree. \n",
    "- The root directory is the starting point, and each folder inside it represents a node. \n",
    "- Files are the leaf nodes because they do not have any children.\n",
    "\n",
    "- Example: In Windows, \"C:\" is the root, and \n",
    "- inside it are directories like \"Documents,\" \"Pictures,\" and \"Downloads.\" \n",
    "- These directories may contain other folders or files, forming a tree structure.\n",
    "\n",
    "2. Organizational Hierarchy\n",
    "- Organizations often use tree structures to represent their hierarchy. \n",
    "- The CEO or top executive is at the root, \n",
    "- while department heads and employees form the branches and leaves of the tree.\n",
    "\n",
    "- Example: A CEO may have multiple VPs reporting to them, and \n",
    "- each VP has managers under them. Managers then have team members as their subordinates, \n",
    "- creating a tree-like organizational chart.\n",
    "\n",
    "3. Decision Trees in Machine Learning\n",
    "- A decision tree is used in AI to model decisions and their possible outcomes.\n",
    "- Each node represents a decision point, and the branches represent the possible outcomes.\n",
    "\n",
    "- Example: In email classification, a decision tree may be used to determine \n",
    "- if an email is spam based on certain attributes (keywords, sender, etc.). \n",
    "- Each branch leads to a final decision (spam or not spam).\n",
    "\n",
    "4. Binary Search Trees for Database Indexing\n",
    "- Binary Search Trees are used to maintain sorted data, \n",
    "- which allows efficient searching, insertion, and deletion.\n",
    "\n",
    "- Example: When you search for a specific record in a database, \n",
    "- the system uses a binary search tree to narrow down the search by comparing values.\n",
    "\n",
    "5. HTML DOM Tree\n",
    "- The Document Object Model (DOM) in HTML is another example of a tree structure. \n",
    "- The root node is the html element, and branches represent different elements in the document, \n",
    "- such as head, body, div, and so on.\n",
    "\n",
    "- Example: A web browser processes the DOM tree to render the webpage. \n",
    "- Each HTML tag is a node, and its attributes and contents are children of that node.\n"
   ]
  },
  {
   "cell_type": "markdown",
   "id": "4356c5e4",
   "metadata": {},
   "source": [
    "## Advantages of Trees\n",
    "- Efficient Searching and Sorting: \n",
    "Trees like binary search trees allow for quick searching and sorting, especially with large datasets.\n",
    "- Dynamic Nature: \n",
    "Unlike arrays, trees can grow dynamically. The structure adjusts as new nodes are added or removed.\n",
    "- Hierarchical Representation: \n",
    "Trees are ideal for representing hierarchical data such as organization charts or family trees.\n",
    "- Multiple Traversal Methods: \n",
    "Trees can be traversed in different ways—pre-order, in-order, post-order—depending on the task at hand.\n"
   ]
  },
  {
   "cell_type": "code",
   "execution_count": null,
   "id": "c91dfa95",
   "metadata": {},
   "outputs": [],
   "source": []
  },
  {
   "cell_type": "markdown",
   "id": "64af385a",
   "metadata": {},
   "source": [
    "## Concept and structure of binary trees\n",
    "- A binary tree is a hierarchical data structure in which each node has at most two children. \n",
    "- These children are referred to as the left child and the right child. \n",
    "- The structure of a binary tree allows for efficient organization and retrieval of data, \n",
    "- making it a popular choice for various algorithms in computer science, \n",
    "- such as searching, sorting, and organizing hierarchical data."
   ]
  },
  {
   "cell_type": "markdown",
   "id": "c1c79824",
   "metadata": {},
   "source": [
    "## Node structure for binary trees (data, left child, and right child)\n",
    "\n",
    "- Root: The topmost node in the tree, which has no parent.\n",
    "- Left Child: The left node of a parent node.\n",
    "- Right Child: The right node of a parent node.\n",
    "- Parent Node: A node that has one or two children.\n",
    "- Leaf Node: A node that has no children.\n",
    "- Subtree: Any node, along with its descendants, can be considered a subtree."
   ]
  },
  {
   "cell_type": "markdown",
   "id": "c5958efb",
   "metadata": {},
   "source": [
    "- In a binary tree, the maximum degree (the number of children a node can have) \n",
    "- is two,meaning each node can have zero, one, or two children."
   ]
  },
  {
   "cell_type": "markdown",
   "id": "09175cb9",
   "metadata": {},
   "source": [
    "## Limitations of Trees\n",
    "- Complexity in Balancing: Keeping a tree balanced, as in the case of AVL or Red-Black trees, can be complicated and time-consuming.\n",
    "- Memory Overhead: Trees require additional memory for storing pointers, especially for large datasets.\n"
   ]
  },
  {
   "cell_type": "markdown",
   "id": "be286175",
   "metadata": {},
   "source": [
    "# Binary Tree Creation"
   ]
  },
  {
   "cell_type": "code",
   "execution_count": 76,
   "id": "2ee6193e",
   "metadata": {},
   "outputs": [],
   "source": [
    "class Treenode:\n",
    "    def __init__(self,val):\n",
    "        self.val=val\n",
    "        self.left=None\n",
    "        self.right=None"
   ]
  },
  {
   "cell_type": "code",
   "execution_count": 77,
   "id": "152cbc08",
   "metadata": {},
   "outputs": [],
   "source": [
    "root=None"
   ]
  },
  {
   "cell_type": "code",
   "execution_count": 85,
   "id": "78f5f2ea",
   "metadata": {},
   "outputs": [],
   "source": [
    "def preorder(root):\n",
    "    if root:\n",
    "        print(root.val,end=' ')\n",
    "        preorder(root.left)\n",
    "        preorder(root.right)"
   ]
  },
  {
   "cell_type": "code",
   "execution_count": 86,
   "id": "03da1eb1",
   "metadata": {},
   "outputs": [],
   "source": [
    "preorder(root)"
   ]
  },
  {
   "cell_type": "code",
   "execution_count": 106,
   "id": "5205a494",
   "metadata": {},
   "outputs": [],
   "source": [
    "class Treenode:\n",
    "    def __init__(self,val):\n",
    "        self.val=val\n",
    "        self.left=None\n",
    "        self.right=None\n",
    "\n",
    "root = Treenode(1)\n",
    "root.left = Treenode(2)\n",
    "root.right = Treenode(3)\n",
    "root.left.left =Treenode(4)\n",
    "root.left.right =Treenode(5)\n",
    "root.right.left =Treenode(6)\n",
    "root.right.right =Treenode(7)\n",
    "root.left.left.left =Treenode(8)\n"
   ]
  },
  {
   "cell_type": "code",
   "execution_count": 107,
   "id": "4e2f8a8f",
   "metadata": {},
   "outputs": [
    {
     "data": {
      "text/plain": [
       "<__main__.Treenode at 0x1618cb31a50>"
      ]
     },
     "execution_count": 107,
     "metadata": {},
     "output_type": "execute_result"
    }
   ],
   "source": [
    "root"
   ]
  },
  {
   "cell_type": "code",
   "execution_count": 108,
   "id": "9329c083",
   "metadata": {},
   "outputs": [
    {
     "name": "stdout",
     "output_type": "stream",
     "text": [
      "1 2 4 8 5 3 6 7 "
     ]
    }
   ],
   "source": [
    "preorder(root)"
   ]
  },
  {
   "cell_type": "code",
   "execution_count": 89,
   "id": "717e2858",
   "metadata": {},
   "outputs": [
    {
     "name": "stdout",
     "output_type": "stream",
     "text": [
      "Preorder traversal\n",
      "1 2 4 5 3 6 7 \n",
      " Inorder traversal\n",
      "4 2 5 1 6 3 7 \n",
      " Postorder traversal\n",
      "4 5 2 6 7 3 1 \n",
      " Levelorder traversal\n",
      "1 2 3 4 5 6 7 "
     ]
    }
   ],
   "source": [
    "print(\"Preorder traversal\")\n",
    "preorder(root)  \n",
    "print(\"\\n Inorder traversal\")\n",
    "inorder(root)  \n",
    "print(\"\\n Postorder traversal\")\n",
    "postorder(root) \n",
    "print(\"\\n Levelorder traversal\")\n",
    "levelorder(root) "
   ]
  },
  {
   "cell_type": "code",
   "execution_count": null,
   "id": "278ea72c",
   "metadata": {},
   "outputs": [],
   "source": []
  },
  {
   "cell_type": "code",
   "execution_count": 102,
   "id": "e0a5125d",
   "metadata": {},
   "outputs": [],
   "source": [
    "arr=[1,2,3,4,5,6,7,8]\n",
    "arr\n",
    "n=len(arr)"
   ]
  },
  {
   "cell_type": "code",
   "execution_count": 103,
   "id": "cfc00dff",
   "metadata": {},
   "outputs": [],
   "source": [
    "def create_binary_tree(arr,i,n):\n",
    "    if i<n:\n",
    "        temp=Treenode(arr[i])\n",
    "        root=temp\n",
    "        root.left=create_binary_tree(arr,2*i+1,n)\n",
    "        root.right=create_binary_tree(arr,2*i+2,n)\n",
    "        return root   \n",
    "    return None"
   ]
  },
  {
   "cell_type": "code",
   "execution_count": 92,
   "id": "1be3fe35",
   "metadata": {},
   "outputs": [],
   "source": [
    "binary_tree=create_binary_tree(arr,0,n)"
   ]
  },
  {
   "cell_type": "code",
   "execution_count": 104,
   "id": "caec3af4",
   "metadata": {},
   "outputs": [
    {
     "data": {
      "text/plain": [
       "<__main__.Treenode at 0x1618cb6f690>"
      ]
     },
     "execution_count": 104,
     "metadata": {},
     "output_type": "execute_result"
    }
   ],
   "source": [
    "binary_tree"
   ]
  },
  {
   "cell_type": "markdown",
   "id": "801a7430",
   "metadata": {},
   "source": [
    "# Binary Tree Traversal (DFS and BFS)\n",
    "#### DFS\n",
    "- Pre_Order\n",
    "- In_Order\n",
    "- Post_Order\n",
    "\n",
    "#### BFS\n",
    "- level_Order"
   ]
  },
  {
   "cell_type": "markdown",
   "id": "04d68933",
   "metadata": {},
   "source": [
    "## Pre_Order"
   ]
  },
  {
   "cell_type": "code",
   "execution_count": null,
   "id": "e5aa0bbb",
   "metadata": {},
   "outputs": [],
   "source": [
    "# Pre-order traversal is a way to visit all the nodes in a tree data structure. \n",
    "# In pre-order, the order of visiting nodes is:\n",
    "\n",
    "# Visit the current node.\n",
    "# Traverse the left subtree.\n",
    "# Traverse the right subtree"
   ]
  },
  {
   "cell_type": "code",
   "execution_count": null,
   "id": "3bb84590",
   "metadata": {},
   "outputs": [],
   "source": [
    "# To perform pre-order traversal recursively, follow these steps:\n",
    "# 1. Begin with the current node. \n",
    "# If the node is null, return.\n",
    "# 2. Visit the current node:\n",
    "#    a) Perform an action, such as printing the node's value.\n",
    "# 3. Recursively call the pre-order traversal function on the left child of the current node.\n",
    "#    a) This will continue to visit all nodes in the left subtree.\n",
    "# 4. After finishing with the left child, recursively call the pre-order traversal function on the right child of the current node.\n",
    "#    a) This will handle all nodes in the right subtree.\n",
    "# 5. This process continues until all nodes in the tree have been visited in the order of root, left, right.\n"
   ]
  },
  {
   "cell_type": "code",
   "execution_count": 100,
   "id": "be90cc57",
   "metadata": {},
   "outputs": [],
   "source": [
    "# For each node in the tree, follow these steps:\n",
    "# a) Visit the node and perform an action, like printing its value.\n",
    "# b) Recursively call the function for the left child of the node.\n",
    "# c) After finishing the left child, recursively call the function for the right child.\n",
    "# This process continues until all nodes have been visited.\n",
    "\n",
    "def preorder(root):\n",
    "    if not root:\n",
    "        return\n",
    "    print(root.val,end=' ')\n",
    "    preorder(root.left)\n",
    "    preorder(root.right)"
   ]
  },
  {
   "cell_type": "code",
   "execution_count": 105,
   "id": "19aec1c8",
   "metadata": {},
   "outputs": [
    {
     "name": "stdout",
     "output_type": "stream",
     "text": [
      "1 2 4 5 3 6 7 "
     ]
    }
   ],
   "source": [
    "preorder(binary_tree)"
   ]
  },
  {
   "cell_type": "code",
   "execution_count": null,
   "id": "bc046f10",
   "metadata": {},
   "outputs": [],
   "source": [
    "# To perform pre-order traversal iteratively, follow these steps:\n",
    "\n",
    "# 1. Start by checking if the root node is null. \n",
    "#    If it is, simply return as there is nothing to traverse.\n",
    "# 2. Initialize an empty stack and push the root node onto it.\n",
    "# 3. Enter a loop that continues until the stack is empty:\n",
    "#    a) Pop the top node from the stack and print its value (this is the current node).\n",
    "#    b) If the current node has a right child, push that right child onto the stack.\n",
    "#    c) If the current node has a left child, push that left child onto the stack.\n",
    "#    Note: The right child is pushed first to ensure the left child is processed next.\n",
    "\n",
    "# 4. Repeat this process until the stack is empty, ensuring all nodes are visited in pre-order (root, left, right)."
   ]
  },
  {
   "cell_type": "code",
   "execution_count": 7,
   "id": "05ea617d",
   "metadata": {},
   "outputs": [],
   "source": [
    "class Node:\n",
    "    def __init__(self, data):\n",
    "        self.data = data\n",
    "        self.left = None\n",
    "        self.right = None\n",
    "\n",
    "def new_node(data):\n",
    "    return Node(data)\n",
    "\n",
    "def iterative_preorder(root):\n",
    "    # Base case\n",
    "    if root is None:\n",
    "        return\n",
    "\n",
    "    # Create an empty stack and push the root to it\n",
    "    node_stack = [root]\n",
    "\n",
    "    # Remove items from the stack one at a time. \n",
    "    # For each item that you remove, do the following:\n",
    "    # a) Print the value of the item.\n",
    "    # b) Add the right child to the stack.\n",
    "    # c) Add the left child to the stack.\n",
    "    # Remember to add the right child first, so that the left child is handled first.\n",
    "    \n",
    "    # Pop all items one by one\n",
    "    while node_stack:\n",
    "        # Pop the top item from stack and print it\n",
    "        node = node_stack.pop()\n",
    "        print(node.data, end=' ')\n",
    "\n",
    "        # Push right and left children of the popped node to stack\n",
    "        if node.right:\n",
    "            node_stack.append(node.right)\n",
    "        if node.left:\n",
    "            node_stack.append(node.left)   "
   ]
  },
  {
   "cell_type": "code",
   "execution_count": null,
   "id": "4e953866",
   "metadata": {},
   "outputs": [],
   "source": []
  },
  {
   "cell_type": "code",
   "execution_count": 8,
   "id": "253844b0",
   "metadata": {},
   "outputs": [
    {
     "name": "stdout",
     "output_type": "stream",
     "text": [
      "10 8 3 5 2 2 "
     ]
    }
   ],
   "source": [
    " # Constructed binary tree is\n",
    "    #         10\n",
    "    #       /   \\\n",
    "    #     8      2\n",
    "    #   /  \\    /\n",
    "    #  3     5  2\n",
    "root = new_node(10)\n",
    "root.left = new_node(8)\n",
    "root.right = new_node(2)\n",
    "root.left.left = new_node(3)\n",
    "root.left.right = new_node(5)\n",
    "root.right.left = new_node(2)\n",
    "\n",
    "iterative_preorder(root)"
   ]
  },
  {
   "cell_type": "markdown",
   "id": "30287949",
   "metadata": {},
   "source": [
    "## In_Order"
   ]
  },
  {
   "cell_type": "code",
   "execution_count": 55,
   "id": "271821f9",
   "metadata": {},
   "outputs": [],
   "source": [
    "def inorder(root):\n",
    "    if not root:\n",
    "        return\n",
    "    inorder(root.left)\n",
    "    print(root.val,end=' ')\n",
    "    inorder(root.right)   "
   ]
  },
  {
   "cell_type": "code",
   "execution_count": 56,
   "id": "2855e087",
   "metadata": {},
   "outputs": [
    {
     "name": "stdout",
     "output_type": "stream",
     "text": [
      "12 6 4 3 3 9 8 "
     ]
    }
   ],
   "source": [
    "inorder(binary_tree)"
   ]
  },
  {
   "cell_type": "markdown",
   "id": "6d04792d",
   "metadata": {},
   "source": [
    "## Post_Order"
   ]
  },
  {
   "cell_type": "code",
   "execution_count": 57,
   "id": "8163aff3",
   "metadata": {},
   "outputs": [],
   "source": [
    "def postorder(root):\n",
    "    if not root:\n",
    "        return\n",
    "    postorder(root.left)\n",
    "    postorder(root.right)\n",
    "    print(root.val,end=' ')    "
   ]
  },
  {
   "cell_type": "code",
   "execution_count": 59,
   "id": "92ea174e",
   "metadata": {},
   "outputs": [
    {
     "name": "stdout",
     "output_type": "stream",
     "text": [
      "12 4 6 3 8 9 3 "
     ]
    }
   ],
   "source": [
    "postorder(binary_tree)"
   ]
  },
  {
   "cell_type": "markdown",
   "id": "f8a8335f",
   "metadata": {},
   "source": [
    "## Level_Order"
   ]
  },
  {
   "cell_type": "code",
   "execution_count": 61,
   "id": "aef084d6",
   "metadata": {},
   "outputs": [],
   "source": [
    "def levelorder(root):\n",
    "    if not root:\n",
    "        return\n",
    "\n",
    "    queue = [root]\n",
    "    while queue:\n",
    "        current = queue.pop(0)\n",
    "        print(current.val, end=\" \")\n",
    "\n",
    "        if current.left:\n",
    "            queue.append(current.left)\n",
    "        if current.right:\n",
    "            queue.append(current.right)   "
   ]
  },
  {
   "cell_type": "code",
   "execution_count": 62,
   "id": "ef1da751",
   "metadata": {},
   "outputs": [
    {
     "name": "stdout",
     "output_type": "stream",
     "text": [
      "3 6 9 12 4 3 8 "
     ]
    }
   ],
   "source": [
    "levelorder(binary_tree)"
   ]
  },
  {
   "cell_type": "code",
   "execution_count": null,
   "id": "d4e45dcd",
   "metadata": {},
   "outputs": [],
   "source": []
  },
  {
   "cell_type": "markdown",
   "id": "d2a3312a",
   "metadata": {},
   "source": [
    "## Applications of Tree Traversal"
   ]
  },
  {
   "cell_type": "markdown",
   "id": "5bb99493",
   "metadata": {},
   "source": [
    "## Search an element in the Binary Tree"
   ]
  },
  {
   "cell_type": "code",
   "execution_count": 27,
   "id": "43be2806",
   "metadata": {},
   "outputs": [],
   "source": [
    "def search(root,ele):\n",
    "    if not root:\n",
    "        return False\n",
    "    \n",
    "    if root.val==ele:\n",
    "        return True\n",
    "    \n",
    "    return search(root.left,ele) or search(root.right,ele)"
   ]
  },
  {
   "cell_type": "code",
   "execution_count": 28,
   "id": "6190d6f6",
   "metadata": {},
   "outputs": [
    {
     "data": {
      "text/plain": [
       "False"
      ]
     },
     "execution_count": 28,
     "metadata": {},
     "output_type": "execute_result"
    }
   ],
   "source": [
    "search(binary_tree,7)"
   ]
  },
  {
   "cell_type": "code",
   "execution_count": 29,
   "id": "46d6c766",
   "metadata": {},
   "outputs": [
    {
     "data": {
      "text/plain": [
       "True"
      ]
     },
     "execution_count": 29,
     "metadata": {},
     "output_type": "execute_result"
    }
   ],
   "source": [
    "search(binary_tree,3)"
   ]
  },
  {
   "cell_type": "code",
   "execution_count": null,
   "id": "8450833d",
   "metadata": {},
   "outputs": [],
   "source": [
    "Search an element in the Binary Tree and return its position"
   ]
  },
  {
   "cell_type": "code",
   "execution_count": 33,
   "id": "b4fbcbed",
   "metadata": {},
   "outputs": [],
   "source": [
    "def search_pos(root, ele, pos=1):\n",
    "    if root is None:\n",
    "        return False  \n",
    "    if root.val == ele:\n",
    "        return pos  \n",
    "\n",
    "\n",
    "    left_search = search_pos(root.left, ele, 2 * pos)\n",
    "    if left_search != -1:\n",
    "        return left_search\n",
    "\n",
    "    \n",
    "    right_search = search_pos(root.right, ele, 2 * pos + 1)\n",
    "    return right_search"
   ]
  },
  {
   "cell_type": "code",
   "execution_count": 34,
   "id": "c7c41442",
   "metadata": {},
   "outputs": [
    {
     "data": {
      "text/plain": [
       "1"
      ]
     },
     "execution_count": 34,
     "metadata": {},
     "output_type": "execute_result"
    }
   ],
   "source": [
    "search_pos(binary_tree,3)"
   ]
  },
  {
   "cell_type": "code",
   "execution_count": 35,
   "id": "e202d1f7",
   "metadata": {},
   "outputs": [
    {
     "data": {
      "text/plain": [
       "False"
      ]
     },
     "execution_count": 35,
     "metadata": {},
     "output_type": "execute_result"
    }
   ],
   "source": [
    "search_pos(binary_tree,7)"
   ]
  },
  {
   "cell_type": "code",
   "execution_count": 36,
   "id": "41f15363",
   "metadata": {},
   "outputs": [
    {
     "data": {
      "text/plain": [
       "4"
      ]
     },
     "execution_count": 36,
     "metadata": {},
     "output_type": "execute_result"
    }
   ],
   "source": [
    "search_pos(binary_tree,12)"
   ]
  },
  {
   "cell_type": "code",
   "execution_count": null,
   "id": "775ac1d8",
   "metadata": {},
   "outputs": [],
   "source": []
  }
 ],
 "metadata": {
  "kernelspec": {
   "display_name": "Python 3 (ipykernel)",
   "language": "python",
   "name": "python3"
  },
  "language_info": {
   "codemirror_mode": {
    "name": "ipython",
    "version": 3
   },
   "file_extension": ".py",
   "mimetype": "text/x-python",
   "name": "python",
   "nbconvert_exporter": "python",
   "pygments_lexer": "ipython3",
   "version": "3.11.5"
  }
 },
 "nbformat": 4,
 "nbformat_minor": 5
}
